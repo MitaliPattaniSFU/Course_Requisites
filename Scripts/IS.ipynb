{
 "cells": [
  {
   "cell_type": "code",
   "execution_count": 4,
   "id": "1c8cef2b-29d0-48c6-8fc6-32043e7aa911",
   "metadata": {},
   "outputs": [
    {
     "data": {
      "application/vnd.jupyter.widget-view+json": {
       "model_id": "a14ba659ba1a439380cac6072f2d43ee",
       "version_major": 2,
       "version_minor": 0
      },
      "text/plain": [
       "Sigma(nx.DiGraph with 81 nodes and 3 edges)"
      ]
     },
     "metadata": {},
     "output_type": "display_data"
    }
   ],
   "source": [
    "import pandas as pd\n",
    "import networkx as nx\n",
    "import numpy as np\n",
    "from ipysigma import Sigma\n",
    "from IPython.display import display\n",
    "import ipywidgets as widgets\n",
    "\n",
    "# Load Excel file\n",
    "file_path = \"https://github.com/MitaliPattaniSFU/Course_Requisites/raw/main/Departments/IS.xlsx\"\n",
    "df = pd.read_excel(file_path, engine='openpyxl')\n",
    "\n",
    "# Department positions and colors\n",
    "dept_positions = {\n",
    "    \"IS\": (0, 0),\n",
    "    \"EDUC\": (3, 0)\n",
    "}\n",
    "dept_colors = {\n",
    "    \"IS\": \"#62a0ca\", # blue\n",
    "    \"EDUC\": \"#495e35\" # dark olive green\n",
    "}\n",
    "\n",
    "def random_offset(center, radius=3):\n",
    "    angle = np.random.uniform(0, 2 * np.pi)\n",
    "    r = np.random.uniform(0, radius)\n",
    "    return center[0] + r * np.cos(angle), center[1] + r * np.sin(angle)\n",
    "\n",
    "# Function to build the graph with optional highlighting\n",
    "def build_graph(highlight_node=None):\n",
    "    G = nx.DiGraph()\n",
    "    for _, row in df.iterrows():\n",
    "        course = row['Course_Code']\n",
    "        prerequisites = row['Prerequisites']\n",
    "        corequisites = row.get('CoRequisites', None)\n",
    "        node_type = row['Type']\n",
    "        node_dept = str(row['Dept']).strip().upper()\n",
    "        description = row['Description']\n",
    "\n",
    "        color = dept_colors.get(node_dept, \"#7f7f7f\")\n",
    "        x, y = random_offset(dept_positions.get(node_dept, (20, 20)))\n",
    "        #print(course, '->', node_dept, '->', color)\n",
    "        G.add_node(course, label=course, Dept=node_dept,\n",
    "                   Prerequisites=prerequisites, Corequisites=corequisites,\n",
    "                   Description=description, color=color, x=x, y=y)\n",
    "\n",
    "    # Add edges after all nodes are added\n",
    "    for _, row in df.iterrows():\n",
    "        course = row['Course_Code']\n",
    "        prerequisites = row['Prerequisites']\n",
    "        corequisites = row.get('CoRequisites', None)\n",
    "        x, y = G.nodes[course]['x'], G.nodes[course]['y']\n",
    "\n",
    "        if pd.notna(prerequisites) and prerequisites != 'none':\n",
    "            for prereq in prerequisites.split(\",\"):\n",
    "                prereq = prereq.strip()\n",
    "                if not G.has_node(prereq):\n",
    "                    G.add_node(prereq, label=prereq, color=color, x=x + 0.5, y=y + 0.5)  \n",
    "                G.add_edge(prereq, course, type='arrow')\n",
    "\n",
    "        if pd.notna(corequisites) and corequisites != 'none':\n",
    "            for coreq in corequisites.split(\",\"):\n",
    "                coreq = coreq.strip()\n",
    "                if not G.has_node(coreq):\n",
    "                    G.add_node(coreq, label=coreq, color=color, x=x + 0.5, y=y + 0.5)\n",
    "                G.add_edge(coreq, course, type='arrow', color='#00b894')\n",
    "\n",
    "    return G\n",
    "\n",
    "\n",
    "# Initial graph\n",
    "G = build_graph()\n",
    "sigma = Sigma(\n",
    "    G,\n",
    "    node_color=\"Dept\",\n",
    "    node_color_palette=dept_colors,  # allow up to 20 distinct department colors\n",
    "    node_label=\"label\",\n",
    "    node_label_size=G.degree,\n",
    "    node_size=G.degree,\n",
    "    start_layout=True\n",
    ")\n",
    "\n",
    "display(sigma)"
   ]
  },
  {
   "cell_type": "code",
   "execution_count": 5,
   "id": "3d2eef5e-a23f-4994-afe9-4869db451f9b",
   "metadata": {},
   "outputs": [],
   "source": [
    "# Export the graph to an HTML file\n",
    "sigma.write_html(\n",
    "    G,\n",
    "    r\"C:\\Users\\mpattani\\Documents\\Course_Requisites\\Visulizations\\IS.html\",\n",
    "    fullscreen=True,\n",
    "    node_color=\"Dept\",\n",
    "    node_color_palette=dept_colors,\n",
    "    node_size_range=(1, 30),\n",
    "    node_border_color_from='node',\n",
    "    default_node_label_size=12,\n",
    "    edge_size_range=(1, 30),\n",
    "    node_size=lambda node: G.degree(node)\n",
    ")"
   ]
  },
  {
   "cell_type": "code",
   "execution_count": null,
   "id": "f48c659d-60cc-4e23-9c30-4b4a9653581a",
   "metadata": {},
   "outputs": [],
   "source": []
  }
 ],
 "metadata": {
  "kernelspec": {
   "display_name": "Python 3 (ipykernel)",
   "language": "python",
   "name": "python3"
  },
  "language_info": {
   "codemirror_mode": {
    "name": "ipython",
    "version": 3
   },
   "file_extension": ".py",
   "mimetype": "text/x-python",
   "name": "python",
   "nbconvert_exporter": "python",
   "pygments_lexer": "ipython3",
   "version": "3.12.0"
  }
 },
 "nbformat": 4,
 "nbformat_minor": 5
}
