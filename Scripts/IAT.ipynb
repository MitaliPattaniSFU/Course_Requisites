{
 "cells": [
  {
   "cell_type": "code",
   "execution_count": 1,
   "id": "42dc9299-77c2-4d68-a344-6d2e342f72d2",
   "metadata": {},
   "outputs": [
    {
     "data": {
      "application/vnd.jupyter.widget-view+json": {
       "model_id": "bdc403deea464d86a7defee3130b68c2",
       "version_major": 2,
       "version_minor": 0
      },
      "text/plain": [
       "Sigma(nx.DiGraph with 154 nodes and 146 edges)"
      ]
     },
     "metadata": {},
     "output_type": "display_data"
    }
   ],
   "source": [
    "import pandas as pd\n",
    "import networkx as nx\n",
    "import numpy as np\n",
    "from ipysigma import Sigma\n",
    "from IPython.display import display\n",
    "import ipywidgets as widgets\n",
    "\n",
    "# Load Excel file\n",
    "file_path = \"https://github.com/MitaliPattaniSFU/Course_Requisites/raw/main/Departments/IAT.xlsx\"\n",
    "df = pd.read_excel(file_path, engine='openpyxl')\n",
    "\n",
    "# Department positions and colors\n",
    "dept_positions = {\n",
    "    \"IAT\": (0, 0),\n",
    "    \"MATH\": (3, 0),\n",
    "    \"CMPT\": (6, 0),\n",
    "    \"BUS\": (9, 0),\n",
    "    \"EDUC\": (12,0)\n",
    "}\n",
    "dept_colors = {\n",
    "    \"IAT\": \"#62a0ca\", # blue\n",
    "    \"MATH\": \"#ff7f0e\", # orange\n",
    "    \"CMPT\": \"#495e35\", # dark olive green\n",
    "    \"BUS\": \"#bfd1ae\", # pale green\n",
    "    \"EDUC\": \"#F5B1A4\"  # light pink\n",
    "}\n",
    "\n",
    "def random_offset(center, radius=3):\n",
    "    angle = np.random.uniform(0, 2 * np.pi)\n",
    "    r = np.random.uniform(0, radius)\n",
    "    return center[0] + r * np.cos(angle), center[1] + r * np.sin(angle)\n",
    "\n",
    "# Function to build the graph with optional highlighting\n",
    "def build_graph(highlight_node=None):\n",
    "    G = nx.DiGraph()\n",
    "    for _, row in df.iterrows():\n",
    "        course = row['Course_Code']\n",
    "        prerequisites = row['Prerequisites']\n",
    "        corequisites = row.get('CoRequisites', None)\n",
    "        node_type = row['Type']\n",
    "        node_dept = str(row['Dept']).strip().upper()\n",
    "        description = row['Description']\n",
    "\n",
    "        color = dept_colors.get(node_dept, \"#7f7f7f\")\n",
    "        x, y = random_offset(dept_positions.get(node_dept, (20, 20)))\n",
    "        #print(course, '->', node_dept, '->', color)\n",
    "        G.add_node(course, label=course, Dept=node_dept,\n",
    "                   Prerequisites=prerequisites, Corequisites=corequisites,\n",
    "                   Description=description, color=color, x=x, y=y)\n",
    "\n",
    "    # Add edges after all nodes are added\n",
    "    for _, row in df.iterrows():\n",
    "        course = row['Course_Code']\n",
    "        prerequisites = row['Prerequisites']\n",
    "        corequisites = row.get('CoRequisites', None)\n",
    "        x, y = G.nodes[course]['x'], G.nodes[course]['y']\n",
    "\n",
    "        if pd.notna(prerequisites) and prerequisites != 'none':\n",
    "            for prereq in prerequisites.split(\",\"):\n",
    "                prereq = prereq.strip()\n",
    "                if not G.has_node(prereq):\n",
    "                    G.add_node(prereq, label=prereq, color=color, x=x + 0.5, y=y + 0.5)  \n",
    "                G.add_edge(prereq, course, type='arrow')\n",
    "\n",
    "        if pd.notna(corequisites) and corequisites != 'none':\n",
    "            for coreq in corequisites.split(\",\"):\n",
    "                coreq = coreq.strip()\n",
    "                if not G.has_node(coreq):\n",
    "                    G.add_node(coreq, label=coreq, color=color, x=x + 0.5, y=y + 0.5)\n",
    "                G.add_edge(coreq, course, type='arrow', color='#00b894')\n",
    "\n",
    "    return G\n",
    "\n",
    "\n",
    "# Initial graph\n",
    "G = build_graph()\n",
    "sigma = Sigma(\n",
    "    G,\n",
    "    node_color=\"Dept\",\n",
    "    node_color_palette=dept_colors,  # allow up to 20 distinct department colors\n",
    "    node_label=\"label\",\n",
    "    node_label_size=G.degree,\n",
    "    node_size=G.degree,\n",
    "    start_layout=True\n",
    ")\n",
    "\n",
    "display(sigma)"
   ]
  },
  {
   "cell_type": "code",
   "execution_count": 2,
   "id": "e5e052cd-510f-4a7c-ad44-a5a234533242",
   "metadata": {},
   "outputs": [],
   "source": [
    "# Export the graph to an HTML file\n",
    "sigma.write_html(\n",
    "    G,\n",
    "    r\"C:\\Users\\mpattani\\Documents\\Course_Requisites\\Visulizations\\IAT.html\",\n",
    "    fullscreen=True,\n",
    "    node_color=\"Dept\",\n",
    "    node_color_palette=dept_colors,\n",
    "    node_size_range=(1, 30),\n",
    "    node_border_color_from='node',\n",
    "    default_node_label_size=12,\n",
    "    edge_size_range=(1, 30),\n",
    "    node_size=lambda node: G.degree(node)\n",
    ")"
   ]
  },
  {
   "cell_type": "code",
   "execution_count": null,
   "id": "6bcfad0b-f62b-4cf5-ab7f-7d3b270d2885",
   "metadata": {},
   "outputs": [],
   "source": []
  }
 ],
 "metadata": {
  "kernelspec": {
   "display_name": "Python 3 (ipykernel)",
   "language": "python",
   "name": "python3"
  },
  "language_info": {
   "codemirror_mode": {
    "name": "ipython",
    "version": 3
   },
   "file_extension": ".py",
   "mimetype": "text/x-python",
   "name": "python",
   "nbconvert_exporter": "python",
   "pygments_lexer": "ipython3",
   "version": "3.12.0"
  }
 },
 "nbformat": 4,
 "nbformat_minor": 5
}
