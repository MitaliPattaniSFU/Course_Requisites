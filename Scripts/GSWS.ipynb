{
 "cells": [
  {
   "cell_type": "code",
   "execution_count": 1,
   "id": "03c20335-f7f6-4f1b-969f-46116d576360",
   "metadata": {},
   "outputs": [
    {
     "data": {
      "application/vnd.jupyter.widget-view+json": {
       "model_id": "1081fefd4a024eb3b5f7f40d74465f1d",
       "version_major": 2,
       "version_minor": 0
      },
      "text/plain": [
       "Sigma(nx.DiGraph with 64 nodes and 10 edges)"
      ]
     },
     "metadata": {},
     "output_type": "display_data"
    }
   ],
   "source": [
    "import pandas as pd\n",
    "import networkx as nx\n",
    "import numpy as np\n",
    "from ipysigma import Sigma\n",
    "from IPython.display import display\n",
    "import ipywidgets as widgets\n",
    "\n",
    "# Load Excel file\n",
    "file_path = \"https://github.com/MitaliPattaniSFU/Course_Requisites/raw/main/Departments/GSWS.xlsx\"\n",
    "df = pd.read_excel(file_path, engine='openpyxl')\n",
    "\n",
    "# Department positions and colors\n",
    "dept_positions = {\n",
    "    \"GSWS\": (0, 0),\n",
    "    \"MATH\": (3, 0),\n",
    "    \"EDUC\": (6, 0)\n",
    "}\n",
    "dept_colors = {\n",
    "    \"GSWS\": \"#62a0ca\", # blue\n",
    "    \"MATH\": \"#ff7f0e\", # orange\n",
    "    \"EDUC\": \"#495e35\" # dark olive green\n",
    "}\n",
    "\n",
    "def random_offset(center, radius=3):\n",
    "    angle = np.random.uniform(0, 2 * np.pi)\n",
    "    r = np.random.uniform(0, radius)\n",
    "    return center[0] + r * np.cos(angle), center[1] + r * np.sin(angle)\n",
    "\n",
    "# Function to build the graph with optional highlighting\n",
    "def build_graph(highlight_node=None):\n",
    "    G = nx.DiGraph()\n",
    "    for _, row in df.iterrows():\n",
    "        course = row['Course_Code']\n",
    "        prerequisites = row['Prerequisites']\n",
    "        corequisites = row.get('CoRequisites', None)\n",
    "        node_type = row['Type']\n",
    "        node_dept = str(row['Dept']).strip().upper()\n",
    "        description = row['Description']\n",
    "\n",
    "        color = dept_colors.get(node_dept, \"#7f7f7f\")\n",
    "        x, y = random_offset(dept_positions.get(node_dept, (20, 20)))\n",
    "        #print(course, '->', node_dept, '->', color)\n",
    "        G.add_node(course, label=course, Dept=node_dept,\n",
    "                   Prerequisites=prerequisites, Corequisites=corequisites,\n",
    "                   Description=description, color=color, x=x, y=y)\n",
    "\n",
    "    # Add edges after all nodes are added\n",
    "    for _, row in df.iterrows():\n",
    "        course = row['Course_Code']\n",
    "        prerequisites = row['Prerequisites']\n",
    "        corequisites = row.get('CoRequisites', None)\n",
    "        x, y = G.nodes[course]['x'], G.nodes[course]['y']\n",
    "\n",
    "        if pd.notna(prerequisites) and prerequisites != 'none':\n",
    "            for prereq in prerequisites.split(\",\"):\n",
    "                prereq = prereq.strip()\n",
    "                if not G.has_node(prereq):\n",
    "                    G.add_node(prereq, label=prereq, color=color, x=x + 0.5, y=y + 0.5)  \n",
    "                G.add_edge(prereq, course, type='arrow')\n",
    "\n",
    "        if pd.notna(corequisites) and corequisites != 'none':\n",
    "            for coreq in corequisites.split(\",\"):\n",
    "                coreq = coreq.strip()\n",
    "                if not G.has_node(coreq):\n",
    "                    G.add_node(coreq, label=coreq, color=color, x=x + 0.5, y=y + 0.5)\n",
    "                G.add_edge(coreq, course, type='arrow', color='#00b894')\n",
    "\n",
    "    return G\n",
    "\n",
    "\n",
    "# Initial graph\n",
    "G = build_graph()\n",
    "sigma = Sigma(\n",
    "    G,\n",
    "    node_color=\"Dept\",\n",
    "    node_color_palette=dept_colors,  # allow up to 20 distinct department colors\n",
    "    node_label=\"label\",\n",
    "    node_label_size=G.degree,\n",
    "    node_size=G.degree,\n",
    "    start_layout=True\n",
    ")\n",
    "\n",
    "display(sigma)"
   ]
  },
  {
   "cell_type": "code",
   "execution_count": 2,
   "id": "b994d823-7f38-4237-a1a5-d4b7367305ec",
   "metadata": {},
   "outputs": [
    {
     "ename": "FileNotFoundError",
     "evalue": "[Errno 2] No such file or directory: 'C:\\\\Users\\\\mpattani\\\\Documents\\\\Course_Requisites\\\\Visulizations\\\\GSWS.html'",
     "output_type": "error",
     "traceback": [
      "\u001b[31m---------------------------------------------------------------------------\u001b[39m",
      "\u001b[31mFileNotFoundError\u001b[39m                         Traceback (most recent call last)",
      "\u001b[36mCell\u001b[39m\u001b[36m \u001b[39m\u001b[32mIn[2]\u001b[39m\u001b[32m, line 2\u001b[39m\n\u001b[32m      1\u001b[39m \u001b[38;5;66;03m# Export the graph to an HTML file\u001b[39;00m\n\u001b[32m----> \u001b[39m\u001b[32m2\u001b[39m \u001b[43msigma\u001b[49m\u001b[43m.\u001b[49m\u001b[43mwrite_html\u001b[49m\u001b[43m(\u001b[49m\n\u001b[32m      3\u001b[39m \u001b[43m    \u001b[49m\u001b[43mG\u001b[49m\u001b[43m,\u001b[49m\n\u001b[32m      4\u001b[39m \u001b[43m    \u001b[49m\u001b[33;43mr\u001b[39;49m\u001b[33;43m\"\u001b[39;49m\u001b[33;43mC:\u001b[39;49m\u001b[33;43m\\\u001b[39;49m\u001b[33;43mUsers\u001b[39;49m\u001b[33;43m\\\u001b[39;49m\u001b[33;43mmpattani\u001b[39;49m\u001b[33;43m\\\u001b[39;49m\u001b[33;43mDocuments\u001b[39;49m\u001b[33;43m\\\u001b[39;49m\u001b[33;43mCourse_Requisites\u001b[39;49m\u001b[33;43m\\\u001b[39;49m\u001b[33;43mVisulizations\u001b[39;49m\u001b[33;43m\\\u001b[39;49m\u001b[33;43mGSWS.html\u001b[39;49m\u001b[33;43m\"\u001b[39;49m\u001b[43m,\u001b[49m\n\u001b[32m      5\u001b[39m \u001b[43m    \u001b[49m\u001b[43mfullscreen\u001b[49m\u001b[43m=\u001b[49m\u001b[38;5;28;43;01mTrue\u001b[39;49;00m\u001b[43m,\u001b[49m\n\u001b[32m      6\u001b[39m \u001b[43m    \u001b[49m\u001b[43mnode_color\u001b[49m\u001b[43m=\u001b[49m\u001b[33;43m\"\u001b[39;49m\u001b[33;43mDept\u001b[39;49m\u001b[33;43m\"\u001b[39;49m\u001b[43m,\u001b[49m\n\u001b[32m      7\u001b[39m \u001b[43m    \u001b[49m\u001b[43mnode_color_palette\u001b[49m\u001b[43m=\u001b[49m\u001b[43mdept_colors\u001b[49m\u001b[43m,\u001b[49m\n\u001b[32m      8\u001b[39m \u001b[43m    \u001b[49m\u001b[43mnode_size_range\u001b[49m\u001b[43m=\u001b[49m\u001b[43m(\u001b[49m\u001b[32;43m1\u001b[39;49m\u001b[43m,\u001b[49m\u001b[43m \u001b[49m\u001b[32;43m5\u001b[39;49m\u001b[43m)\u001b[49m\u001b[43m,\u001b[49m\n\u001b[32m      9\u001b[39m \u001b[43m    \u001b[49m\u001b[43mnode_border_color_from\u001b[49m\u001b[43m=\u001b[49m\u001b[33;43m'\u001b[39;49m\u001b[33;43mnode\u001b[39;49m\u001b[33;43m'\u001b[39;49m\u001b[43m,\u001b[49m\n\u001b[32m     10\u001b[39m \u001b[43m    \u001b[49m\u001b[43mdefault_node_label_size\u001b[49m\u001b[43m=\u001b[49m\u001b[32;43m12\u001b[39;49m\u001b[43m,\u001b[49m\n\u001b[32m     11\u001b[39m \u001b[43m    \u001b[49m\u001b[43medge_size_range\u001b[49m\u001b[43m=\u001b[49m\u001b[43m(\u001b[49m\u001b[32;43m1\u001b[39;49m\u001b[43m,\u001b[49m\u001b[43m \u001b[49m\u001b[32;43m5\u001b[39;49m\u001b[43m)\u001b[49m\u001b[43m,\u001b[49m\n\u001b[32m     12\u001b[39m \u001b[43m    \u001b[49m\u001b[43mnode_size\u001b[49m\u001b[43m=\u001b[49m\u001b[38;5;28;43;01mlambda\u001b[39;49;00m\u001b[43m \u001b[49m\u001b[43mnode\u001b[49m\u001b[43m:\u001b[49m\u001b[43m \u001b[49m\u001b[43mG\u001b[49m\u001b[43m.\u001b[49m\u001b[43mdegree\u001b[49m\u001b[43m(\u001b[49m\u001b[43mnode\u001b[49m\u001b[43m)\u001b[49m\n\u001b[32m     13\u001b[39m \u001b[43m)\u001b[49m\n",
      "\u001b[36mFile \u001b[39m\u001b[32m~\\AppData\\Roaming\\Python\\Python312\\site-packages\\ipysigma\\sigma.py:1143\u001b[39m, in \u001b[36mSigma.write_html\u001b[39m\u001b[34m(cls, graph, path, fullscreen, **kwargs)\u001b[39m\n\u001b[32m   1140\u001b[39m     kwargs[\u001b[33m\"\u001b[39m\u001b[33mheight\u001b[39m\u001b[33m\"\u001b[39m] = \u001b[38;5;28;01mNone\u001b[39;00m\n\u001b[32m   1141\u001b[39m     kwargs[\u001b[33m\"\u001b[39m\u001b[33mraw_height\u001b[39m\u001b[33m\"\u001b[39m] = \u001b[33m\"\u001b[39m\u001b[33mcalc(100vh - 16px)\u001b[39m\u001b[33m\"\u001b[39m\n\u001b[32m-> \u001b[39m\u001b[32m1143\u001b[39m \u001b[38;5;28;01mreturn\u001b[39;00m \u001b[38;5;28;43mcls\u001b[39;49m\u001b[43m(\u001b[49m\u001b[43mgraph\u001b[49m\u001b[43m,\u001b[49m\u001b[43m \u001b[49m\u001b[43m*\u001b[49m\u001b[43m*\u001b[49m\u001b[43mkwargs\u001b[49m\u001b[43m)\u001b[49m\u001b[43m.\u001b[49m\u001b[43mto_html\u001b[49m\u001b[43m(\u001b[49m\u001b[43mpath\u001b[49m\u001b[43m)\u001b[49m\n",
      "\u001b[36mFile \u001b[39m\u001b[32m~\\AppData\\Roaming\\Python\\Python312\\site-packages\\ipysigma\\sigma.py:1133\u001b[39m, in \u001b[36mSigma.to_html\u001b[39m\u001b[34m(self, path)\u001b[39m\n\u001b[32m   1130\u001b[39m current_snapshot = \u001b[38;5;28mself\u001b[39m.snapshot\n\u001b[32m   1131\u001b[39m \u001b[38;5;28mself\u001b[39m.snapshot = \u001b[38;5;28;01mNone\u001b[39;00m\n\u001b[32m-> \u001b[39m\u001b[32m1133\u001b[39m \u001b[43membed_minimal_html\u001b[49m\u001b[43m(\u001b[49m\u001b[43mpath\u001b[49m\u001b[43m,\u001b[49m\u001b[43m \u001b[49m\u001b[43mviews\u001b[49m\u001b[43m=\u001b[49m\u001b[43m[\u001b[49m\u001b[38;5;28;43mself\u001b[39;49m\u001b[43m]\u001b[49m\u001b[43m)\u001b[49m\n\u001b[32m   1135\u001b[39m \u001b[38;5;28mself\u001b[39m.snapshot = current_snapshot\n",
      "\u001b[36mFile \u001b[39m\u001b[32m~\\AppData\\Roaming\\Python\\Python312\\site-packages\\ipywidgets\\embed.py:318\u001b[39m, in \u001b[36membed_minimal_html\u001b[39m\u001b[34m(fp, views, title, template, **kwargs)\u001b[39m\n\u001b[32m    315\u001b[39m     fp.write(html_code)\n\u001b[32m    316\u001b[39m \u001b[38;5;28;01melse\u001b[39;00m:\n\u001b[32m    317\u001b[39m     \u001b[38;5;66;03m# Assume fp is a filename:\u001b[39;00m\n\u001b[32m--> \u001b[39m\u001b[32m318\u001b[39m     \u001b[38;5;28;01mwith\u001b[39;00m \u001b[38;5;28;43mopen\u001b[39;49m\u001b[43m(\u001b[49m\u001b[43mfp\u001b[49m\u001b[43m,\u001b[49m\u001b[43m \u001b[49m\u001b[33;43m\"\u001b[39;49m\u001b[33;43mw\u001b[39;49m\u001b[33;43m\"\u001b[39;49m\u001b[43m)\u001b[49m \u001b[38;5;28;01mas\u001b[39;00m f:\n\u001b[32m    319\u001b[39m         f.write(html_code)\n",
      "\u001b[31mFileNotFoundError\u001b[39m: [Errno 2] No such file or directory: 'C:\\\\Users\\\\mpattani\\\\Documents\\\\Course_Requisites\\\\Visulizations\\\\GSWS.html'"
     ]
    }
   ],
   "source": [
    "# Export the graph to an HTML file\n",
    "sigma.write_html(\n",
    "    G,\n",
    "    r\"C:\\Users\\mpattani\\Documents\\Course_Requisites\\Visualizations\\GSWS.html\",\n",
    "    fullscreen=True,\n",
    "    node_color=\"Dept\",\n",
    "    node_color_palette=dept_colors,\n",
    "    node_size_range=(1, 5),\n",
    "    node_border_color_from='node',\n",
    "    default_node_label_size=12,\n",
    "    edge_size_range=(1, 5),\n",
    "    node_size=lambda node: G.degree(node)\n",
    ")"
   ]
  },
  {
   "cell_type": "code",
   "execution_count": null,
   "id": "a0093aa7-505a-4336-a874-70056b47c7b4",
   "metadata": {},
   "outputs": [],
   "source": []
  }
 ],
 "metadata": {
  "kernelspec": {
   "display_name": "Python 3 (ipykernel)",
   "language": "python",
   "name": "python3"
  },
  "language_info": {
   "codemirror_mode": {
    "name": "ipython",
    "version": 3
   },
   "file_extension": ".py",
   "mimetype": "text/x-python",
   "name": "python",
   "nbconvert_exporter": "python",
   "pygments_lexer": "ipython3",
   "version": "3.12.0"
  }
 },
 "nbformat": 4,
 "nbformat_minor": 5
}
